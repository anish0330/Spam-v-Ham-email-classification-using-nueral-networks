{
 "cells": [
  {
   "cell_type": "markdown",
   "metadata": {},
   "source": [
    "## Spam or Ham classification using RNN and LSTM"
   ]
  },
  {
   "cell_type": "code",
   "execution_count": 5,
   "metadata": {
    "execution": {
     "iopub.execute_input": "2024-06-26T19:08:10.352084Z",
     "iopub.status.busy": "2024-06-26T19:08:10.351394Z",
     "iopub.status.idle": "2024-06-26T19:08:10.366740Z",
     "shell.execute_reply": "2024-06-26T19:08:10.365229Z",
     "shell.execute_reply.started": "2024-06-26T19:08:10.352027Z"
    },
    "id": "LACJMobEulSA"
   },
   "outputs": [],
   "source": [
    "import numpy as np\n",
    "import pandas as pd\n",
    "import os\n",
    "import seaborn as sns\n",
    "import matplotlib.pyplot as plt\n",
    "%matplotlib inline\n",
    "# Train test split\n",
    "from sklearn.model_selection import train_test_split\n",
    "# Text pre-processing\n",
    "import tensorflow as tf\n",
    "from tensorflow.keras.preprocessing.text import Tokenizer\n",
    "from tensorflow.keras.preprocessing.sequence import pad_sequences\n",
    "from tensorflow.keras.callbacks import EarlyStopping\n",
    "# Modeling\n",
    "from tensorflow.keras.models import Sequential\n",
    "from tensorflow.keras.layers import LSTM, GRU, Dense, Embedding, Dropout, GlobalAveragePooling1D, Flatten, SpatialDropout1D, Bidirectional"
   ]
  },
  {
   "cell_type": "code",
   "execution_count": 2,
   "metadata": {
    "colab": {
     "base_uri": "https://localhost:8080/"
    },
    "id": "yC4RDumgvJIm",
    "outputId": "47ece120-2897-449d-8893-4b1c765890a4"
   },
   "outputs": [
    {
     "name": "stdout",
     "output_type": "stream",
     "text": [
      "Found GPU at: /device:GPU:0\n"
     ]
    }
   ],
   "source": [
    "# %tensorflow_version 2.xb\n",
    "import tensorflow as tf\n",
    "device_name = tf.test.gpu_device_name()\n",
    "if device_name != '/device:GPU:0':\n",
    "  raise SystemError('GPU device not found')\n",
    "print('Found GPU at: {}'.format(device_name))"
   ]
  },
  {
   "cell_type": "code",
   "execution_count": 7,
   "metadata": {
    "execution": {
     "iopub.execute_input": "2024-06-26T19:08:17.410368Z",
     "iopub.status.busy": "2024-06-26T19:08:17.409711Z",
     "iopub.status.idle": "2024-06-26T19:08:17.419742Z",
     "shell.execute_reply": "2024-06-26T19:08:17.418338Z",
     "shell.execute_reply.started": "2024-06-26T19:08:17.410310Z"
    }
   },
   "outputs": [
    {
     "data": {
      "text/plain": [
       "'2.16.1'"
      ]
     },
     "execution_count": 7,
     "metadata": {},
     "output_type": "execute_result"
    }
   ],
   "source": [
    "tf.__version__"
   ]
  },
  {
   "cell_type": "code",
   "execution_count": 3,
   "metadata": {
    "colab": {
     "base_uri": "https://localhost:8080/"
    },
    "id": "GINtQOUVvKKb",
    "outputId": "157a8870-b7b6-4129-b5a3-317c0c122e03"
   },
   "outputs": [
    {
     "name": "stdout",
     "output_type": "stream",
     "text": [
      "Drive already mounted at /content/drive; to attempt to forcibly remount, call drive.mount(\"/content/drive\", force_remount=True).\n"
     ]
    }
   ],
   "source": [
    "from google.colab import drive\n",
    "drive.mount('/content/drive')\n",
    "data_dir = '/content/drive/MyDrive/ML3/' #replace this with your directory path if working in collab"
   ]
  },
  {
   "cell_type": "code",
   "execution_count": 3,
   "metadata": {
    "execution": {
     "iopub.execute_input": "2024-06-26T19:02:07.587952Z",
     "iopub.status.busy": "2024-06-26T19:02:07.587280Z",
     "iopub.status.idle": "2024-06-26T19:02:07.625567Z",
     "shell.execute_reply": "2024-06-26T19:02:07.624434Z",
     "shell.execute_reply.started": "2024-06-26T19:02:07.587927Z"
    }
   },
   "outputs": [
    {
     "data": {
      "text/html": [
       "<div>\n",
       "<style scoped>\n",
       "    .dataframe tbody tr th:only-of-type {\n",
       "        vertical-align: middle;\n",
       "    }\n",
       "\n",
       "    .dataframe tbody tr th {\n",
       "        vertical-align: top;\n",
       "    }\n",
       "\n",
       "    .dataframe thead th {\n",
       "        text-align: right;\n",
       "    }\n",
       "</style>\n",
       "<table border=\"1\" class=\"dataframe\">\n",
       "  <thead>\n",
       "    <tr style=\"text-align: right;\">\n",
       "      <th></th>\n",
       "      <th>email</th>\n",
       "      <th>label</th>\n",
       "    </tr>\n",
       "  </thead>\n",
       "  <tbody>\n",
       "    <tr>\n",
       "      <th>0</th>\n",
       "      <td>Upgrade to our premium plan for exclusive acce...</td>\n",
       "      <td>ham</td>\n",
       "    </tr>\n",
       "    <tr>\n",
       "      <th>1</th>\n",
       "      <td>Happy holidays from our team! Wishing you joy ...</td>\n",
       "      <td>ham</td>\n",
       "    </tr>\n",
       "    <tr>\n",
       "      <th>2</th>\n",
       "      <td>We're hiring! Check out our career opportuniti...</td>\n",
       "      <td>ham</td>\n",
       "    </tr>\n",
       "    <tr>\n",
       "      <th>3</th>\n",
       "      <td>Your Amazon account has been locked. Click her...</td>\n",
       "      <td>spam</td>\n",
       "    </tr>\n",
       "    <tr>\n",
       "      <th>4</th>\n",
       "      <td>Your opinion matters! Take our survey and help...</td>\n",
       "      <td>ham</td>\n",
       "    </tr>\n",
       "  </tbody>\n",
       "</table>\n",
       "</div>"
      ],
      "text/plain": [
       "                                               email label\n",
       "0  Upgrade to our premium plan for exclusive acce...   ham\n",
       "1  Happy holidays from our team! Wishing you joy ...   ham\n",
       "2  We're hiring! Check out our career opportuniti...   ham\n",
       "3  Your Amazon account has been locked. Click her...  spam\n",
       "4  Your opinion matters! Take our survey and help...   ham"
      ]
     },
     "execution_count": 3,
     "metadata": {},
     "output_type": "execute_result"
    }
   ],
   "source": [
    "df = pd.read_csv('email_classification.csv') #use this if working in local\n",
    "df.head(5)"
   ]
  },
  {
   "cell_type": "markdown",
   "metadata": {},
   "source": [
    "Above is a sample of the data, it contains two features. The mail itself and the classification of it."
   ]
  },
  {
   "cell_type": "code",
   "execution_count": 4,
   "metadata": {
    "id": "L0yDYmPWv-eu"
   },
   "outputs": [],
   "source": [
    "df = pd.read_csv(data_dir + 'email_classification.csv')\n",
    "df['num_label'] = df.label.map({'spam':1,\n",
    "                                'ham':0})"
   ]
  },
  {
   "cell_type": "markdown",
   "metadata": {
    "id": "CYEtj-r6wPLY"
   },
   "source": [
    "these are rudimentary steps in our data preparation. We map the labels to either 1 or 0  "
   ]
  },
  {
   "cell_type": "markdown",
   "metadata": {
    "id": "4lAMRjXuAo-H"
   },
   "source": [
    "## Setting a baseline"
   ]
  },
  {
   "cell_type": "code",
   "execution_count": 63,
   "metadata": {
    "colab": {
     "base_uri": "https://localhost:8080/",
     "height": 508
    },
    "id": "jnC4JIMiAndz",
    "outputId": "047b7180-c39c-4835-ed6b-00e4ff428ab9"
   },
   "outputs": [
    {
     "data": {
      "image/png": "[encoded data removed]",
      "text/plain": [
       "<Figure size 640x480 with 1 Axes>"
      ]
     },
     "metadata": {},
     "output_type": "display_data"
    },
    {
     "name": "stdout",
     "output_type": "stream",
     "text": [
      "Proportion Chance Criterion = 50.6881807683905%\n",
      "1.25*Proportion Chance Criterion = 63.36022596048812%\n"
     ]
    }
   ],
   "source": [
    "df['num_label'].value_counts()\n",
    "num = (df.groupby('num_label').size() /\n",
    "       df.groupby('num_label').size().sum())**2\n",
    "PCC = num.sum()\n",
    "plt.bar(num.index, num, color='skyblue')\n",
    "plt.xlabel('Ham or Spam')\n",
    "plt.ylabel('Proportion')\n",
    "plt.title('Proportions of ham and spam')\n",
    "plt.show()\n",
    "print(\"Proportion Chance Criterion = {}%\".format(100*PCC))\n",
    "print(\"1.25*Proportion Chance Criterion = {}%\".format(1.25*100*PCC))"
   ]
  },
  {
   "cell_type": "markdown",
   "metadata": {
    "id": "7vQJx2eUB9aC"
   },
   "source": [
    "Here we are setting our baseline, from the baseline it is clear that the model we make, needs to be atleast better than 63% accuracy."
   ]
  },
  {
   "cell_type": "code",
   "execution_count": 5,
   "metadata": {
    "id": "DToTIemXv-ip"
   },
   "outputs": [],
   "source": [
    "outcomes = np.array(df.num_label)\n",
    "mails = np.array(df.email)"
   ]
  },
  {
   "cell_type": "markdown",
   "metadata": {
    "id": "cYkioaU6wM5n"
   },
   "source": [
    "In this step, we are converting our individual emails into an array, this then will be put through a tokenizer, helping us move forward."
   ]
  },
  {
   "cell_type": "code",
   "execution_count": 6,
   "metadata": {
    "id": "yEHGcHwRv-m5"
   },
   "outputs": [],
   "source": [
    "from keras.preprocessing.text import Tokenizer\n",
    "from keras.preprocessing.sequence import pad_sequences"
   ]
  },
  {
   "cell_type": "code",
   "execution_count": 7,
   "metadata": {
    "id": "IQTFlOtnv-ri"
   },
   "outputs": [],
   "source": [
    "token = Tokenizer(lower = True, num_words = 10000)\n",
    "token.fit_on_texts(mails)\n",
    "sequences = token.texts_to_sequences(mails)"
   ]
  },
  {
   "cell_type": "markdown",
   "metadata": {
    "id": "ofYoXclzwI8Z"
   },
   "source": [
    "Here we are fitting a tokenizer object on our text data. This will process the text data and start building our vocab library. Following that we are converting our data into a sequence of integers by using the vocan library built by the Tokenzier"
   ]
  },
  {
   "cell_type": "code",
   "execution_count": 8,
   "metadata": {
    "colab": {
     "base_uri": "https://localhost:8080/"
    },
    "id": "asFyPGzhv-wu",
    "outputId": "e77093c8-8d6c-4bb8-b11e-498d93887798"
   },
   "outputs": [
    {
     "name": "stdout",
     "output_type": "stream",
     "text": [
      "19\n"
     ]
    }
   ],
   "source": [
    "max = 0\n",
    "for length in sequences:\n",
    "  if len(length) > max:\n",
    "    max = len(length)\n",
    "print(max)"
   ]
  },
  {
   "cell_type": "markdown",
   "metadata": {
    "id": "q0R6IuESzdQk"
   },
   "source": [
    "In the above cell, the code we wrote helps us find the maxlen that will be used while padding our tokens.\n"
   ]
  },
  {
   "cell_type": "code",
   "execution_count": 9,
   "metadata": {
    "id": "SM2CO6v8v-zS"
   },
   "outputs": [],
   "source": [
    "input_mails = pad_sequences(sequences, maxlen = 19)"
   ]
  },
  {
   "cell_type": "code",
   "execution_count": 10,
   "metadata": {
    "id": "RpFBWFr9v-4W"
   },
   "outputs": [],
   "source": [
    "from sklearn.model_selection import train_test_split\n",
    "X_train, x_test, y_train, y_test = train_test_split(input_mails, outcomes, train_size = 0.8)\n"
   ]
  },
  {
   "cell_type": "code",
   "execution_count": 11,
   "metadata": {
    "id": "DVER6rs_wZYy"
   },
   "outputs": [],
   "source": [
    "from keras import Sequential\n",
    "from keras.layers import Embedding, SimpleRNN\n",
    "from keras.layers import Dense\n",
    "\n",
    "model = Sequential()\n",
    "model.add(Embedding(input_dim = 1000, output_dim = 32))\n",
    "model.add(SimpleRNN(32))\n",
    "model.add(Dropout(0.3))\n",
    "model.add(Dense(1, activation = 'sigmoid'))\n",
    "\n"
   ]
  },
  {
   "cell_type": "markdown",
   "metadata": {
    "id": "-Z3UxRZB1rdR"
   },
   "source": [
    "In the above, one will notice the inclusion of the dropout layer. This has been introduced to help with regularization. While creating this notebook, we ran the code without a dropout and saw quite some overfitting. To combat this we decided to include the dropout layer and to ensure we aren't regularizing it too much, we put the value at a 0.3"
   ]
  },
  {
   "cell_type": "code",
   "execution_count": 12,
   "metadata": {
    "colab": {
     "base_uri": "https://localhost:8080/"
    },
    "id": "kDl7pZPDwb_t",
    "outputId": "16a9e5ab-c85d-4892-cec8-3d616f119938"
   },
   "outputs": [
    {
     "name": "stdout",
     "output_type": "stream",
     "text": [
      "Epoch 1/20\n",
      "7/7 [==============================] - 10s 287ms/step - loss: 0.6763 - acc: 0.5372 - val_loss: 0.7038 - val_acc: 0.3636\n",
      "Epoch 2/20\n",
      "7/7 [==============================] - 1s 181ms/step - loss: 0.5765 - acc: 0.8264 - val_loss: 0.6508 - val_acc: 0.5455\n",
      "Epoch 3/20\n",
      "7/7 [==============================] - 1s 199ms/step - loss: 0.4610 - acc: 0.9256 - val_loss: 0.5855 - val_acc: 0.6818\n",
      "Epoch 4/20\n",
      "7/7 [==============================] - 2s 327ms/step - loss: 0.3534 - acc: 1.0000 - val_loss: 0.5603 - val_acc: 0.7273\n",
      "Epoch 5/20\n",
      "7/7 [==============================] - 1s 147ms/step - loss: 0.2476 - acc: 1.0000 - val_loss: 0.3873 - val_acc: 0.8182\n",
      "Epoch 6/20\n",
      "7/7 [==============================] - 1s 109ms/step - loss: 0.1738 - acc: 1.0000 - val_loss: 0.4564 - val_acc: 0.7273\n",
      "Epoch 7/20\n",
      "7/7 [==============================] - 2s 251ms/step - loss: 0.1178 - acc: 1.0000 - val_loss: 0.2270 - val_acc: 0.9091\n",
      "Epoch 8/20\n",
      "7/7 [==============================] - 1s 198ms/step - loss: 0.0896 - acc: 1.0000 - val_loss: 0.3642 - val_acc: 0.8182\n",
      "Epoch 9/20\n",
      "7/7 [==============================] - 2s 192ms/step - loss: 0.0578 - acc: 1.0000 - val_loss: 0.1999 - val_acc: 0.9091\n",
      "Epoch 10/20\n",
      "7/7 [==============================] - 1s 104ms/step - loss: 0.0565 - acc: 1.0000 - val_loss: 0.2102 - val_acc: 0.9545\n",
      "Epoch 11/20\n",
      "7/7 [==============================] - 1s 128ms/step - loss: 0.0391 - acc: 1.0000 - val_loss: 0.2344 - val_acc: 0.9545\n",
      "Epoch 12/20\n",
      "7/7 [==============================] - 0s 73ms/step - loss: 0.0298 - acc: 1.0000 - val_loss: 0.2121 - val_acc: 0.9545\n",
      "Epoch 13/20\n",
      "7/7 [==============================] - 1s 78ms/step - loss: 0.0248 - acc: 1.0000 - val_loss: 0.1403 - val_acc: 0.9545\n",
      "Epoch 14/20\n",
      "7/7 [==============================] - 0s 39ms/step - loss: 0.0158 - acc: 1.0000 - val_loss: 0.2590 - val_acc: 0.8636\n",
      "Epoch 15/20\n",
      "7/7 [==============================] - 1s 119ms/step - loss: 0.0116 - acc: 1.0000 - val_loss: 0.2814 - val_acc: 0.8182\n",
      "Epoch 16/20\n",
      "7/7 [==============================] - 0s 46ms/step - loss: 0.0080 - acc: 1.0000 - val_loss: 0.1387 - val_acc: 0.9545\n",
      "Epoch 17/20\n",
      "7/7 [==============================] - 0s 60ms/step - loss: 0.0171 - acc: 0.9917 - val_loss: 0.1556 - val_acc: 0.9545\n",
      "Epoch 18/20\n",
      "7/7 [==============================] - 0s 23ms/step - loss: 0.0075 - acc: 1.0000 - val_loss: 0.1177 - val_acc: 0.9091\n",
      "Epoch 19/20\n",
      "7/7 [==============================] - 0s 59ms/step - loss: 0.0057 - acc: 1.0000 - val_loss: 0.1327 - val_acc: 0.9091\n",
      "Epoch 20/20\n",
      "7/7 [==============================] - 0s 25ms/step - loss: 0.0042 - acc: 1.0000 - val_loss: 0.1185 - val_acc: 0.9545\n"
     ]
    }
   ],
   "source": [
    "model.compile(optimizer='rmsprop', loss='binary_crossentropy', metrics=['acc'])\n",
    "history = model.fit(X_train, y_train, epochs = 20, batch_size = 20, validation_split = 0.15)"
   ]
  },
  {
   "cell_type": "code",
   "execution_count": 13,
   "metadata": {
    "colab": {
     "base_uri": "https://localhost:8080/"
    },
    "id": "BE68rthkwfYQ",
    "outputId": "b61e5b00-a12b-4f56-88ad-9e3ef04e77a8"
   },
   "outputs": [
    {
     "name": "stdout",
     "output_type": "stream",
     "text": [
      "2/2 [==============================] - 0s 11ms/step - loss: 0.1024 - acc: 0.9444\n"
     ]
    }
   ],
   "source": [
    "test_acc = model.evaluate(x_test, y_test)\n"
   ]
  },
  {
   "cell_type": "markdown",
   "metadata": {
    "id": "mjeOQ7rK2C3f"
   },
   "source": [
    "The above shows us that we have gotten a 94% test accuracy, while this may seem amazing, it is important to check if the model is actually this good."
   ]
  },
  {
   "cell_type": "code",
   "execution_count": 48,
   "metadata": {
    "colab": {
     "base_uri": "https://localhost:8080/"
    },
    "id": "wJh9TQ5T428j",
    "outputId": "74062986-17b7-4bcc-efce-4f402205df63"
   },
   "outputs": [
    {
     "name": "stdout",
     "output_type": "stream",
     "text": [
      "2/2 [==============================] - 0s 9ms/step\n"
     ]
    }
   ],
   "source": [
    "from sklearn.metrics import precision_score, recall_score\n",
    "\n",
    "y_pred = model.predict(x_test)"
   ]
  },
  {
   "cell_type": "code",
   "execution_count": 15,
   "metadata": {
    "id": "tECpl_H65XVO"
   },
   "outputs": [],
   "source": [
    "y_pred_binary = (y_pred > 0.5).astype(int)\n",
    "precision = precision_score(y_test, y_pred_binary)\n",
    "recall = recall_score(y_test, y_pred_binary)"
   ]
  },
  {
   "cell_type": "code",
   "execution_count": 16,
   "metadata": {
    "colab": {
     "base_uri": "https://localhost:8080/"
    },
    "id": "XjV5Rj5K5qhV",
    "outputId": "ea75ea47-d7f2-477c-f73d-4624425b0cef"
   },
   "outputs": [
    {
     "name": "stdout",
     "output_type": "stream",
     "text": [
      "0.8571428571428571\n",
      "1.0\n"
     ]
    }
   ],
   "source": [
    "print(precision)\n",
    "print(recall)"
   ]
  },
  {
   "cell_type": "code",
   "execution_count": 17,
   "metadata": {
    "colab": {
     "base_uri": "https://localhost:8080/",
     "height": 887
    },
    "id": "VOZ_oNLOwgm1",
    "outputId": "da7f290f-5c8d-4ac9-ba85-64b61f3e0d58"
   },
   "outputs": [
    {
     "data": {
      "image/png": "[encoded data removed]",
      "text/plain": [
       "<Figure size 640x480 with 1 Axes>"
      ]
     },
     "metadata": {},
     "output_type": "display_data"
    },
    {
     "data": {
      "image/png": "[encoded data removed]",
      "text/plain": [
       "<Figure size 640x480 with 1 Axes>"
      ]
     },
     "metadata": {},
     "output_type": "display_data"
    }
   ],
   "source": [
    "import matplotlib.pyplot as plt\n",
    "%matplotlib inline\n",
    "\n",
    "acc = history.history['acc']\n",
    "val_acc = history.history['val_acc']\n",
    "loss = history.history['loss']\n",
    "val_loss = history.history['val_loss']\n",
    "\n",
    "epochs = range(1, len(acc) + 1)\n",
    "\n",
    "plt.plot(epochs, acc, 'bo', label='Training acc')\n",
    "plt.plot(epochs, val_acc, 'b', label='Validation acc')\n",
    "plt.title('Training and validation accuracy')\n",
    "plt.legend()\n",
    "\n",
    "plt.figure()\n",
    "\n",
    "plt.plot(epochs, loss, 'bo', label='Training loss')\n",
    "plt.plot(epochs, val_loss, 'b', label='Validation loss')\n",
    "plt.title('Training and validation loss')\n",
    "plt.legend()\n",
    "\n",
    "plt.show()"
   ]
  },
  {
   "cell_type": "markdown",
   "metadata": {
    "id": "DwHfuH232SfN"
   },
   "source": [
    "In the above, we can see that some degree of overfitting still exists in our data. The model is learning extremely well on the training data but not as good on the validation."
   ]
  },
  {
   "cell_type": "markdown",
   "metadata": {
    "id": "wQfg9WhCzn0e"
   },
   "source": [
    "## LSTM"
   ]
  },
  {
   "cell_type": "code",
   "execution_count": 55,
   "metadata": {
    "id": "eb41qC5IwjVK"
   },
   "outputs": [],
   "source": [
    "model1 = Sequential()\n",
    "model1.add(Embedding(input_dim = 1000, output_dim = 32))\n",
    "model1.add(LSTM(32))\n",
    "model1.add(Dropout(0.3))\n",
    "model1.add(Dense(1, activation = 'sigmoid'))\n"
   ]
  },
  {
   "cell_type": "markdown",
   "metadata": {
    "id": "LylT0W3-2iMa"
   },
   "source": [
    "similar to the RNN, we have included a dropout layer for the same reason as stated above."
   ]
  },
  {
   "cell_type": "code",
   "execution_count": 56,
   "metadata": {
    "colab": {
     "base_uri": "https://localhost:8080/"
    },
    "id": "cO6JlKqVwjcu",
    "outputId": "e654bd96-97ca-42b7-a6a3-a509dd43346d"
   },
   "outputs": [
    {
     "name": "stdout",
     "output_type": "stream",
     "text": [
      "Epoch 1/20\n",
      "7/7 [==============================] - 3s 149ms/step - loss: 0.6907 - acc: 0.6033 - val_loss: 0.6982 - val_acc: 0.2273\n",
      "Epoch 2/20\n",
      "7/7 [==============================] - 0s 44ms/step - loss: 0.6799 - acc: 0.5537 - val_loss: 0.6866 - val_acc: 0.5455\n",
      "Epoch 3/20\n",
      "7/7 [==============================] - 0s 41ms/step - loss: 0.6646 - acc: 0.8595 - val_loss: 0.6782 - val_acc: 0.5455\n",
      "Epoch 4/20\n",
      "7/7 [==============================] - 0s 54ms/step - loss: 0.6334 - acc: 0.8264 - val_loss: 0.6415 - val_acc: 0.7727\n",
      "Epoch 5/20\n",
      "7/7 [==============================] - 0s 33ms/step - loss: 0.5801 - acc: 0.9339 - val_loss: 0.6110 - val_acc: 0.7273\n",
      "Epoch 6/20\n",
      "7/7 [==============================] - 0s 12ms/step - loss: 0.4797 - acc: 0.9421 - val_loss: 0.5989 - val_acc: 0.7273\n",
      "Epoch 7/20\n",
      "7/7 [==============================] - 0s 54ms/step - loss: 0.3543 - acc: 0.9339 - val_loss: 0.5883 - val_acc: 0.7273\n",
      "Epoch 8/20\n",
      "7/7 [==============================] - 0s 23ms/step - loss: 0.2551 - acc: 0.9587 - val_loss: 0.5764 - val_acc: 0.7727\n",
      "Epoch 9/20\n",
      "7/7 [==============================] - 0s 48ms/step - loss: 0.1858 - acc: 0.9752 - val_loss: 0.2514 - val_acc: 0.9091\n",
      "Epoch 10/20\n",
      "7/7 [==============================] - 0s 62ms/step - loss: 0.1315 - acc: 0.9917 - val_loss: 0.2907 - val_acc: 0.8636\n",
      "Epoch 11/20\n",
      "7/7 [==============================] - 0s 45ms/step - loss: 0.1011 - acc: 0.9917 - val_loss: 0.2145 - val_acc: 0.9091\n",
      "Epoch 12/20\n",
      "7/7 [==============================] - 0s 33ms/step - loss: 0.0857 - acc: 0.9835 - val_loss: 0.3464 - val_acc: 0.8636\n",
      "Epoch 13/20\n",
      "7/7 [==============================] - 0s 40ms/step - loss: 0.0676 - acc: 0.9917 - val_loss: 0.2448 - val_acc: 0.8636\n",
      "Epoch 14/20\n",
      "7/7 [==============================] - 0s 46ms/step - loss: 0.0508 - acc: 0.9917 - val_loss: 0.1027 - val_acc: 0.9545\n",
      "Epoch 15/20\n",
      "7/7 [==============================] - 0s 15ms/step - loss: 0.0985 - acc: 0.9669 - val_loss: 0.3756 - val_acc: 0.8636\n",
      "Epoch 16/20\n",
      "7/7 [==============================] - 0s 15ms/step - loss: 0.0462 - acc: 0.9917 - val_loss: 0.2336 - val_acc: 0.9091\n",
      "Epoch 17/20\n",
      "7/7 [==============================] - 0s 31ms/step - loss: 0.0348 - acc: 1.0000 - val_loss: 0.3552 - val_acc: 0.8636\n",
      "Epoch 18/20\n",
      "7/7 [==============================] - 0s 62ms/step - loss: 0.0320 - acc: 1.0000 - val_loss: 0.1346 - val_acc: 0.9545\n",
      "Epoch 19/20\n",
      "7/7 [==============================] - 0s 17ms/step - loss: 0.0874 - acc: 0.9669 - val_loss: 0.3353 - val_acc: 0.8636\n",
      "Epoch 20/20\n",
      "7/7 [==============================] - 0s 17ms/step - loss: 0.0285 - acc: 1.0000 - val_loss: 0.3375 - val_acc: 0.9091\n"
     ]
    }
   ],
   "source": [
    "model1.compile(optimizer = 'rmsprop', metrics = ['acc'],loss= 'binary_crossentropy')\n",
    "history1 = model1.fit(X_train, y_train, epochs = 20, batch_size = 20, validation_split = 0.15 )"
   ]
  },
  {
   "cell_type": "markdown",
   "metadata": {
    "id": "f2-4Hzmt2oxW"
   },
   "source": [
    "O"
   ]
  },
  {
   "cell_type": "code",
   "execution_count": 57,
   "metadata": {
    "colab": {
     "base_uri": "https://localhost:8080/"
    },
    "id": "ENLRd9oRwpof",
    "outputId": "e280beb6-96c7-4658-9262-a7305c4e5266"
   },
   "outputs": [
    {
     "name": "stdout",
     "output_type": "stream",
     "text": [
      "2/2 [==============================] - 0s 8ms/step - loss: 0.0608 - acc: 1.0000\n"
     ]
    },
    {
     "data": {
      "text/plain": [
       "[0.06084230914711952, 1.0]"
      ]
     },
     "execution_count": 57,
     "metadata": {},
     "output_type": "execute_result"
    }
   ],
   "source": [
    "model1.evaluate(x_test, y_test)"
   ]
  },
  {
   "cell_type": "code",
   "execution_count": 58,
   "metadata": {
    "colab": {
     "base_uri": "https://localhost:8080/"
    },
    "id": "ndHibi795yXs",
    "outputId": "57f36cd2-21ef-4e46-be4b-7b90e77b4a71"
   },
   "outputs": [
    {
     "name": "stdout",
     "output_type": "stream",
     "text": [
      "2/2 [==============================] - 0s 6ms/step\n"
     ]
    }
   ],
   "source": [
    "y_pred_lstm = model1.predict(x_test)\n",
    "\n",
    "y_pred_binary_lstm = (y_pred_lstm >0.5).astype(int)\n",
    "\n",
    "pres = precision_score(y_test, y_pred_binary_lstm)\n",
    "rec = recall_score(y_test, y_pred_binary_lstm)"
   ]
  },
  {
   "cell_type": "code",
   "execution_count": 59,
   "metadata": {
    "colab": {
     "base_uri": "https://localhost:8080/"
    },
    "id": "93iliyq6677g",
    "outputId": "13c6201c-1988-4fad-89f4-1ae98e618a28"
   },
   "outputs": [
    {
     "name": "stdout",
     "output_type": "stream",
     "text": [
      "1.0\n",
      "1.0\n"
     ]
    }
   ],
   "source": [
    "print(pres)\n",
    "print(rec)"
   ]
  },
  {
   "cell_type": "code",
   "execution_count": 60,
   "metadata": {
    "colab": {
     "base_uri": "https://localhost:8080/",
     "height": 887
    },
    "id": "PxfatfXlwqdn",
    "outputId": "2d7d4543-2e74-4bd7-acc3-6f31059f8341"
   },
   "outputs": [
    {
     "data": {
      "image/png": "[encoded data removed]",
      "text/plain": [
       "<Figure size 640x480 with 1 Axes>"
      ]
     },
     "metadata": {},
     "output_type": "display_data"
    },
    {
     "data": {
      "image/png": "[encoded data removed]",
      "text/plain": [
       "<Figure size 640x480 with 1 Axes>"
      ]
     },
     "metadata": {},
     "output_type": "display_data"
    }
   ],
   "source": [
    "import matplotlib.pyplot as plt\n",
    "%matplotlib inline\n",
    "\n",
    "acc = history1.history['acc']\n",
    "val_acc = history1.history['val_acc']\n",
    "loss = history1.history['loss']\n",
    "val_loss = history1.history['val_loss']\n",
    "\n",
    "epochs = range(1, len(acc) + 1)\n",
    "\n",
    "plt.plot(epochs, acc, 'bo', label='Training acc')\n",
    "plt.plot(epochs, val_acc, 'b', label='Validation acc')\n",
    "plt.title('Training and validation accuracy')\n",
    "plt.legend()\n",
    "\n",
    "plt.figure()\n",
    "\n",
    "plt.plot(epochs, loss, 'bo', label='Training loss')\n",
    "plt.plot(epochs, val_loss, 'b', label='Validation loss')\n",
    "plt.title('Training and validation loss')\n",
    "plt.legend()\n",
    "\n",
    "plt.show()"
   ]
  },
  {
   "cell_type": "markdown",
   "metadata": {
    "id": "ZhjM5-sy8PSL"
   },
   "source": [
    "## DISCUSSION, FINDINGS AND CONCLUSION\n",
    "\n"
   ]
  },
  {
   "cell_type": "markdown",
   "metadata": {
    "id": "rjRMQAx0-rF3"
   },
   "source": [
    "| Model   | Train Accuracy | Val Accuracy | Test Accuracy | Precision | Recall |\n",
    "|---------|----------------|--------------|---------------|-----------|--------|\n",
    "| RNN     | 100%          | 95.25%      | 94.4%      | 0.85     | 1   |\n",
    "| LSTM  | 100%      | 95.45%       | 100%          | 1      | 1   |\n"
   ]
  },
  {
   "cell_type": "markdown",
   "metadata": {
    "id": "jJjJyAfe_OgP"
   },
   "source": [
    "**methodology**\n",
    "  \n",
    "a standard RNN  and LSTM model was used, but to explore more and aid in model performance,a Dropout layer was added to regularise. Initially, I quite interested in knowing how model output would change with a change in the activation parameter, Since adam uses adaptive learning rates and  converges faster, I thought using this would yeild a more effecient model. But after reading https://www.ej-compute.org/index.php/compute/article/download/80/37/307 , it was made clear that the rmsprop was the better function to use in this case. Following that I computed test scores, precision and recall and printed graphs to help compare the models better.\n",
    "\n",
    "\n",
    "**Model comparison**\n",
    "    \n",
    " While both the models performed similarly, I feel that the degree of overfitting was lesser on LSTM than its counterpart. LSTM performs bettern than RNN in almost all aspects and even has a higher precision and recall score. When it comes to test accuracy, the LSTM model has a perfect 100% compared to 94.4 of that of the RNN model. When it comes to run time, since the dataset is so small, comparisons can't really be made in the avenue. Overall, I believe that the LSTM model is the better one of the two in this case.\n",
    "\n",
    "**observations**\n",
    "    \n",
    "1) Every time the split of the data was done, the accuracy for val and test kept changing. Maybe this could mean that a more thorough splitting will help us gauge the model better. Using something like a stratifiedkfold could be something to look into here, ensuring more exposure of the data.\n",
    "\n",
    "2) Using the models without the dropout while training showed a greater degree of overfitting than when we trained the model with the dropout, this indicates that dropout does help with regularization.\n",
    "\n",
    "\n",
    "\n"
   ]
  }
 ],
 "metadata": {
  "accelerator": "GPU",
  "colab": {
   "gpuType": "T4",
   "provenance": []
  },
  "kernelspec": {
   "display_name": "Python 3 (ipykernel)",
   "language": "python",
   "name": "python3"
  },
  "language_info": {
   "codemirror_mode": {
    "name": "ipython",
    "version": 3
   },
   "file_extension": ".py",
   "mimetype": "text/x-python",
   "name": "python",
   "nbconvert_exporter": "python",
   "pygments_lexer": "ipython3",
   "version": "3.11.8"
  }
 },
 "nbformat": 4,
 "nbformat_minor": 4
}
